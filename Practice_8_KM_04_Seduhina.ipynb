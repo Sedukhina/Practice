{
  "nbformat": 4,
  "nbformat_minor": 0,
  "metadata": {
    "colab": {
      "name": "Practice_7_KM-01_.ipynb",
      "provenance": [],
      "collapsed_sections": []
    },
    "kernelspec": {
      "name": "python3",
      "display_name": "Python 3.7.9 64-bit",
      "metadata": {
        "interpreter": {
          "hash": "4ce0e62306dd6a5716965d4519ada776f947e6dfc145b604b11307c10277ef29"
        }
      }
    }
  },
  "cells": [
    {
      "cell_type": "markdown",
      "metadata": {
        "id": "FMqboNwO4rVs"
      },
      "source": [
        "# **Курс \"Програмування на мові Python\"**\n",
        "\n",
        "##### Викладачі:\n",
        "##### Борисенко Павло Борисович\n",
        "##### Щьоголєв Максим Олегович\n"
      ]
    },
    {
      "cell_type": "markdown",
      "metadata": {
        "id": "A2T6MigL5Z06"
      },
      "source": [
        "## **Практичне зайняття №8**\n",
        "\n",
        "### Тема: \"Робота з функціями. Локальні та глобальні змінні\""
      ]
    },
    {
      "cell_type": "markdown",
      "metadata": {
        "id": "cfCdgK2zXm7e"
      },
      "source": [
        "### **Завдання 1 (3 бали)**\n",
        "\n",
        "**Підрахувати визначник матриці, використовуючи правило перестановок.**\n",
        "\n",
        "Функція random_matrix() призначена для створення квадратної матриці випадкових чисел. Її змінювати непотрібно.\n",
        "\n",
        "Приклад використання методу permutations() для створення списку перестановок також подається у комірці з кодом.\n",
        "\n",
        "1) Створити 3 функції: функцію створення списку перестановок, функцію підрахунку добутків та функцію підрахунку загальної суми.\n",
        "\n",
        "2) Кожна функція має супроводжуватись рядком документації, що буде коротко описувати її призначення.\n",
        "\n",
        "3) Розмірність квадратної матриці має вводитись користувачем з клавіатури. Підрахунки виконувати лише в тому разі, якщо користувач введе ціле додатне число.\n",
        "\n",
        "4) Загальний результат повинен підраховуватись за допомогою композиції функцій.\n",
        "\n",
        "За бажання можна перевірити правильність роботи програми за допомогою функції np.linalg.det(a)."
      ]
    },
    {
      "cell_type": "code",
      "metadata": {
        "id": "ifNX2M7LXm7f"
      },
      "source": [
        "import numpy as np\n",
        "import itertools, math\n",
        "\n",
        "def random_matrix(dim):\n",
        "    \"\"\"\n",
        "    The function generates dim x dim array of integers\n",
        "    between 0 and 10.\n",
        "    \"\"\"\n",
        "    matrix = np.random.randint(10, size = (dim, dim))\n",
        "    return matrix\n",
        "\n",
        "def perestan(x):\n",
        "    '''Створення листа перестановок'''\n",
        "    t = list(itertools.permutations(x))\n",
        "    return t\n",
        "\n",
        "def mnozh():\n",
        "    '''Функція знаходить елементи, що в сумі дають визначник'''\n",
        "    li = []\n",
        "    q = []\n",
        "    for i in range(math.factorial(dim)):\n",
        "        k = 1\n",
        "        s = 0\n",
        "        q.clear()\n",
        "        for j in range(dim):\n",
        "            k = k * perestan(matryx)[i][j][j]\n",
        "            q.append(d[str(perestan(matryx)[i][j])])\n",
        "            if (j + 1) == dim:\n",
        "                for m in range(dim):\n",
        "                    for n in range(dim):\n",
        "                        if m>n and q[m] > q[n]:\n",
        "                            s += 1\n",
        "                if s % 2 == 1:\n",
        "                    k = - k\n",
        "                li.append(k)\n",
        "    return li\n",
        "\n",
        "def dodav():\n",
        "    '''Функція додає значення, що містить список li'''\n",
        "    result=sum(mnozh())\n",
        "    return result\n",
        "\n",
        "dim='smth'\n",
        "while type(dim) != int:\n",
        "        dim = input('Введіть розмір матриці ')\n",
        "        try:\n",
        "            (dim) = int(dim)\n",
        "        except:\n",
        "            print('Не натуральне число або не число')\n",
        "\n",
        "matryx=random_matrix(dim)\n",
        "print(matryx)\n",
        "d = {}\n",
        "for o in range(dim):\n",
        "    d[str(matryx[o])]=o\n",
        "print('Детермінант цієї матриці: ', dodav())"
      ],
      "execution_count": null,
      "outputs": []
    },
    {
      "cell_type": "code",
      "execution_count": null,
      "metadata": {},
      "outputs": [],
      "source": [
        "\n"
      ]
    }
  ]
}